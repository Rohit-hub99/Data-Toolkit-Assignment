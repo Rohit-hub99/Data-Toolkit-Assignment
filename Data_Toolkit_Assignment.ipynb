{
  "nbformat": 4,
  "nbformat_minor": 0,
  "metadata": {
    "colab": {
      "provenance": []
    },
    "kernelspec": {
      "name": "python3",
      "display_name": "Python 3"
    },
    "language_info": {
      "name": "python"
    }
  },
  "cells": [
    {
      "cell_type": "markdown",
      "source": [
        "Theory Questions"
      ],
      "metadata": {
        "id": "cUPt2e-dX_0K"
      }
    },
    {
      "cell_type": "markdown",
      "source": [
        "# 1. What is NumPy, and why is it widely used in Python ?\n",
        "  - NumPy (Numerical Python) is a powerful library in Python used for numerical computing. It provides support for large, multi-dimensional arrays and matrices, along with a collection of mathematical functions to operate on these data structures efficiently.\n",
        "\n",
        "  - Efficient Performance\n",
        "    - NumPy arrays (ndarrays) are more memory-efficient and faster than Python lists due to their fixed type and optimized implementations.\n",
        "\n",
        "  - Efficient Performance\n",
        "    - umPy arrays (ndarrays) are more memory-efficient and faster than Python lists due to their fixed type and optimized implementations.\n",
        "Vectorization and Broadcasting\n",
        "    - NumPy allows element-wise operations without using explicit loops, improving performance (e.g., A + B adds two arrays directly).\n",
        "Broadcasting enables operations between arrays of different shapes, avoiding unnecessary memory usage.\n",
        "\n",
        "  - Comprehensive Mathematical Functions\n",
        "    - Supports linear algebra, Fourier transforms, random number generation, and statistical functions.\n",
        "\n",
        "  - Seamless Integration\n",
        "    - Works well with libraries like Pandas, Matplotlib, SciPy, TensorFlow, and scikit-learn.\n",
        "\n",
        "\n",
        "\n",
        "# 2. How does broadcasting work in NumPy ?\n",
        "  - Broadcasting is a powerful feature in NumPy that allows element-wise operations on arrays of different shapes without explicitly replicating data. This improves both memory efficiency and computational speed.\n",
        "\n",
        "   When performing operations (e.g., addition, multiplication) between two arrays of different shapes, NumPy automatically expands the smaller array to match the shape of the larger one, without actually copying data.\n",
        "   \n",
        "   Broadcasting Rules\n",
        "    - When NumPy operates on two arrays, it follows these rules:\n",
        "\n",
        "   Match dimensions from right to left.\n",
        "    - If a dimension is missing, it is treated as 1.\n",
        "    - If one dimension is 1, it is stretched to match the other.\n",
        "    - f dimensions don’t match and neither is 1, an error occurs.\n",
        "\n",
        "\n",
        "# 3. What is a Pandas DataFrame ?\n",
        "  - A Pandas DataFrame is a two-dimensional, tabular data structure in Python, similar to an Excel spreadsheet or a SQL table. It is part of the Pandas library, which is widely used for data analysis and manipulation.\n",
        "\n",
        "\n",
        "# 4. Explain the use of the groupby() method in Pandas ?\n",
        "  - The groupby() Method in Pandas\n",
        "    - The groupby() method in Pandas is used for grouping data based on one or more columns and performing aggregations (like sum, mean, count, etc.) on grouped data.\n",
        "\n",
        "    It is useful for:\n",
        "    - Analyzing data by categories\n",
        "    - Performing summary statistics\n",
        "    - Data transformation\n",
        "\n",
        "\n",
        "# 5. Why is Seaborn preferred for statistical visualizations ?\n",
        "  - Seaborn is a powerful data visualization library in Python, built on Matplotlib. It is widely used for statistical visualizations because of its simplicity, aesthetics, and built-in statistical capabilities.\n",
        "\n",
        "  1. Beautiful and Informative Visualizations\n",
        "     -  Seaborn creates visually appealing plots with minimal effort.\n",
        "     - It has built-in themes and color palettes that make plots look professional.\n",
        "\n",
        "  2. Built-in Support for Statistical Functions\n",
        "     - Seaborn automatically computes statistics (e.g., confidence intervals, trend lines).\n",
        "     - The sns.regplot() function adds linear regression lines to scatter plots.\n",
        "\n",
        "  3. High-Level API for Complex Plots\n",
        "     - Unlike Matplotlib, Seaborn simplifies complex visualizations.\n",
        "     \n",
        "  4. Excellent Handling of Categorical Data\n",
        "     - Seaborn makes it easy to visualize relationships involving categories.\n",
        "     - Example: Swarmplot (distribution of categorical data)\n",
        "\n",
        "\n",
        "\n",
        "# 6. What are the differences between NumPy arrays and Python lists ?\n",
        "  - NumPy Arrays vs. Python Lists: Key Differences\n",
        "Both NumPy arrays and Python lists store data, but NumPy arrays are optimized for numerical operations, while lists are more flexible but slower for large-scale computations.\n",
        "\n",
        "     - NumPy Array\n",
        "\n",
        "  Speed: \t🚀 Fast (C-based)\n",
        "\n",
        "  Memory Usage: \t🔹 Less (fixed type)\n",
        "\n",
        "  Element-wise Operations: ✅ Supported (vectorized)\n",
        "\n",
        "  Data Type:\t🔹 Single type\n",
        "\n",
        "  Mathematical Functions:\t✅ Built-in (mean, std, etc.)\n",
        "\n",
        "  Flexibility:\t❌ Less (fixed type)\n",
        "\n",
        "     - Python List\n",
        "\n",
        "  Speed: 🐢 Slow (loops needed)\n",
        "  \n",
        "  Memory Usag: 🔸 More (pointers)\n",
        "  \n",
        "  Element-wise Operations: ❌ Not directly\n",
        "  \n",
        "  Data Type: 🔸 Mixed types allowed\n",
        "  \n",
        "  Mathematical Functions: ❌ Needs manual implementation\n",
        "  \n",
        "  Flexibility: ✅ More (mixed data)\n",
        "\n",
        "\n",
        "\n",
        "# 7. What is a heatmap, and when should it be used ?\n",
        "  - A heatmap is a type of data visualization that uses color intensity to represent values in a matrix or table. It helps in identifying patterns, correlations, and variations in large datasets at a glance.\n",
        "\n",
        "   1. Correlation Analysis (Finding Relationships)\n",
        "    - Used in statistics and machine learning to analyze relationships between variables.\n",
        "    - A correlation matrix heatmap shows how strongly features are related.\n",
        "\n",
        "   2. Visualizing Large Tables of Data\n",
        "    - Helps in spotting trends in finance, sales, healthcare, and research.\n",
        "    - Instead of reading numbers, users quickly interpret colors.\n",
        "\n",
        "   3. Analyzing Website or User Behavior (Heatmaps in UX/UI)\n",
        "    - Website heatmaps show areas where users click the most.\n",
        "    - E-commerce heatmaps track where users focus.\n",
        "    - Medical imaging heatmaps highlight disease-affected areas in X-rays.\n",
        "\n",
        "\n",
        "\n",
        "# 8.  What does the term “vectorized operation” mean in NumPy ?\n",
        "  - A vectorized operation in NumPy means applying operations to entire arrays (vectors) at once, rather than using loops to process elements one by one.\n",
        "\n",
        "   - Key Benefit: Faster execution and better memory efficiency because NumPy uses optimized C-based operations.\n",
        "\n",
        "  Why Use Vectorized Operations?\n",
        "   - Speed → Much faster than loops in Python.\n",
        "   - Memory Efficient → Uses contiguous memory blocks.\n",
        "   - Concise Code → Eliminates the need for explicit loops.\n",
        "\n",
        "   \n",
        "# 9. How does Matplotlib differ from Plotly ?\n",
        "  - Matplotlib and Plotly are both popular Python libraries for data visualization, but they have key differences in interactivity, customization, and ease of use.\n",
        "\n",
        "   1. Matplotlib\n",
        "    \n",
        "    Interactivity: ❌ Static (default)\n",
        "\n",
        "    Customization:\t✅ Highly customizable\n",
        "\n",
        "    Ease of Use:\t🔹 More code required\n",
        "\n",
        "    3D Plot Support:\t✅ Available, but complex\n",
        "\n",
        "    Best For:\tScientific plots, static reports\n",
        "\n",
        "   2. Plotly\n",
        "\n",
        "    Interactivity: ✅ Interactive (zoom, hover)\n",
        "    \n",
        "    Customization: 🔹 Predefined, but customizable\n",
        "    \n",
        "    Ease of Use: ✅ Easier to use for quick visualizations\n",
        "    \n",
        "    3D Plot Support: ✅ Built-in, easier to use\n",
        "    \n",
        "    Best Fo: Web apps, dashboards, interactive charts\n",
        "\n",
        "\n",
        "\n",
        "# 10. What is the significance of hierarchical indexing in Pandas ?\n",
        "  - Hierarchical indexing (also called MultiIndex) allows Pandas to organize and access multi-level data efficiently. Instead of using a single index, it enables multiple index levels, making it easy to work with grouped or structured datasets.\n",
        "\n",
        "\n",
        "# 11. What is the role of Seaborn’s pairplot() function ?\n",
        "  - The pairplot() function in Seaborn creates pairwise scatter plots for all numerical variables in a dataset. It helps visualize relationships between variables and identify correlations, clusters, and outliers.\n",
        "\n",
        "  Key Features of pairplot()\n",
        "    -  Plots relationships between all numerical features\n",
        "    - Shows diagonal distributions (histograms or KDE plots)\n",
        "    -  Great for exploring datasets before analysis\n",
        "    -  Supports color grouping (hue) for categorical variables\n",
        "\n",
        "\n",
        "\n",
        "# 12.  What is the purpose of the describe() function in Pandas ?\n",
        "  - The describe() function in Pandas provides a summary of statistical measures for numerical or categorical data in a DataFrame. It helps in exploratory data analysis (EDA) by showing key insights about the dataset.\n",
        "  \n",
        "    - Exploratory Data Analysis (EDA)\n",
        "    - Understanding dataset distributions\n",
        "    - Detecting outliers and missing values\n",
        "    -  Summarizing numerical & categorical data\n",
        "\n",
        "\n",
        "# 13. Why is handling missing data important in Pandas ?\n",
        "  - Missing data can skew results, introduce bias, and reduce the reliability of analysis. Proper handling ensures accuracy, consistency, and completeness in data-driven decision-making.\n",
        "\n",
        "  - Problems Caused by Missing Data\n",
        "    - Incorrect Statistics → Affects mean, median, correlation, and standard deviation.\n",
        "    - Errors in Machine Learning Models → Many models can't handle NaN values.\n",
        "    - Distorted Visualizations → Missing data can make trends misleading.\n",
        "    - Biased Analysis → Removing too much data may lead to loss of critical insights.\n",
        "    - Computational Errors → Some operations may fail with missing values.\n",
        "\n",
        "\n",
        "\n",
        "# 14. What are the benefits of using Plotly for data visualization ?\n",
        "  - Plotly is a powerful and interactive Python library for creating dynamic and high-quality visualizations. It is widely used in data science, analytics, and web applications due to its flexibility and ease of use.\n",
        "\n",
        "    -  Interactive Plots → Zoom, hover tooltips, and pan functionalities.\n",
        "   \n",
        "    -  High-Quality Visuals → Suitable for dashboards and reports.\n",
        "   \n",
        "    - Supports Multiple Chart Types → Line charts, scatter plots, heatmaps, 3D plots, and more.\n",
        "\n",
        "    - Seamless Integration → Works with Jupyter Notebook, Dash, and web apps.\n",
        "   \n",
        "    - Customizable & Aesthetic → Modern themes, color scales, and annotations.\n",
        "   \n",
        "    - Built-in Support for Big Data → Handles large datasets efficiently.\n",
        "   \n",
        "    - Export to Multiple Formats → Save as PNG, SVG, PDF, or HTML.\n",
        "\n",
        "\n",
        "  \n",
        "# 15. How does NumPy handle multidimensional arrays ?\n",
        "  - NumPy provides the ndarray (N-dimensional array) structure, allowing efficient handling of multidimensional data. It supports operations like slicing, reshaping, and broadcasting for easy manipulation.\n",
        "\n",
        "   - Key Features of NumPy Multidimensional Arrays\n",
        "  \n",
        "    -  Stores data efficiently in contiguous memory blocks.\n",
        "  \n",
        "    -  Supports vectorized operations (fast computation without loops).\n",
        "  \n",
        "    -  Handles high-dimensional data (e.g., images, tensors, matrices).\n",
        "  \n",
        "    -  Enables easy reshaping and slicing for different dimensions.\n",
        "  \n",
        "    -  Allows broadcasting (operating on arrays of different shapes).\n",
        "\n",
        "\n",
        "# 16. What is the role of Bokeh in data visualization ?\n",
        "  - Bokeh is a powerful Python library for creating interactive, web-ready visualizations. It is widely used for dashboards, reports, and big data analytics.\n",
        "\n",
        "    - Why Use Bokeh?\n",
        "\n",
        "      - Interactive Plots → Zoom, pan, hover tooltips, and selection.\n",
        "\n",
        "      - Web-Ready Output → Generates HTML/JavaScript for browser visualization.\n",
        "\n",
        "      - Scalable for Big Data → Optimized for large datasets.\n",
        "      \n",
        "      - Integration with Pandas & NumPy → Easily visualize DataFrames and arrays.\n",
        "\n",
        "      - Supports Various Chart Types → Line, bar, scatter, heatmaps, and geospatial plots.\n",
        "\n",
        "      - Compatible with Dashboards → Works with Flask, Django, and Jupyter Notebook.\n",
        "\n",
        "\n",
        " # 17. Explain the difference between apply() and map() in Pandas ?\n",
        "   - Both apply() and map() are used to apply functions to Pandas DataFrames and Series, but they have key differences in how they operate.\n",
        "\n",
        "    1. map()\n",
        "\n",
        "     - Feature\n",
        "       - Works on: Series only\n",
        "       - Applies Function To: Each element individually\n",
        "       - Supports Dictionaries:  Yes\n",
        "       - Supports Row-wise Operations:  No\n",
        "       - Suitable For: Simple element-wise transformations\n",
        "\n",
        "    2. apply()\n",
        "     \n",
        "     - Feature\n",
        "       - Works on: Series & DataFrames\n",
        "       - Applies Function To: Rows (axis=1) or Columns (axis=0)\n",
        "       - Supports Dictionaries: No\n",
        "       - Supports Row-wise Operations: Yes\n",
        "       - Suitable For: Complex functions on rows/columns\n",
        "\n",
        "\n",
        "\n",
        "# 18. What are some advanced features of NumPy ?\n",
        "  - NumPy is a powerful library that provides high-performance mathematical operations on large datasets. Beyond basic array operations, it includes advanced features for high-dimensional data manipulation, numerical computing, and performance optimization.\n",
        "\n",
        "\n",
        "   1. Broadcasting – Handling Different-Sized Arrays\n",
        "     - Allows operations on arrays of different shapes without manual replication.\n",
        "   \n",
        "   2. Vectorized Operations – Faster Computation\n",
        "     - Performs operations on entire arrays without loops (faster than Python lists).\n",
        "\n",
        "   3. Advanced Indexing & Boolean Masking\n",
        "     - Retrieve elements based on conditions or complex rules.\n",
        "   \n",
        "   4. NumPy einsum() – Einstein Summation Notation\n",
        "     - Performs complex matrix operations (dot product, transpose, sum) efficiently.\n",
        "\n",
        "   5. Memory Mapping (memmap) – Handle Large Datasets\n",
        "     - Allows working with large files without loading them fully into RAM.\n",
        "\n",
        "   6. Structured Arrays – Handling Heterogeneous Data\n",
        "     - Store multiple data types in a single array (like a lightweight DataFrame).\n",
        "     \n",
        "\n",
        "\n",
        "# 19. How does Pandas simplify time series analysis ?\n",
        "  - Pandas is one of the most powerful libraries for time series analysis, making it easy to manipulate, analyze, and visualize time-based data. It provides specialized functions for datetime handling, resampling, moving averages, and rolling windows.\n",
        "\n",
        "    - Easy datetime conversion & indexing\n",
        "    - Powerful time-based filtering & selection\n",
        "    - Resampling for different time intervals\n",
        "    - Rolling statistics & moving averages\n",
        "    - Handles missing time data efficiently\n",
        "\n",
        "\n",
        "# 20. What is the role of a pivot table in Pandas ?\n",
        "  - A pivot table in Pandas is a powerful tool for summarizing, aggregating, and analyzing data efficiently. It allows you to rearrange and group data in a structured format, similar to Excel pivot tables.\n",
        "\n",
        "    - Why Use Pivot Tables?\n",
        "      - Summarizes large datasets quickly.\n",
        "      - Aggregates data using functions like sum(), mean(), count(), etc.\n",
        "      - Reshapes data dynamically for better analysis.\n",
        "      - Handles multi-dimensional data easily.\n",
        "\n",
        "\n",
        "\n",
        "# 21. Why is NumPy’s array slicing faster than Python’s list slicing ?\n",
        "  - NumPy’s array slicing is significantly faster than Python’s list slicing due to efficient memory management, vectorized operations, and contiguous storage. Let’s break it down.\n",
        "\n",
        "    - Memory Layout: Contiguous vs. Pointers\n",
        "      - NumPy arrays use a contiguous block of memory, meaning all elements are stored sequentially in memory.\n",
        "      - Python lists store references (pointers) to objects, requiring extra memory access.\n",
        "\n",
        "    - Avoids Python Overhead (Dynamic Typing & Object References)\n",
        "      - Python lists are dynamic and can store mixed data types, requiring additional type checking.\n",
        "      - NumPy arrays have fixed, homogeneous types, eliminating type checks during operations.\n",
        "\n",
        "    - View-Based Slicing (No Copying in NumPy)\n",
        "      - NumPy slicing creates a \"view\" of the data instead of copying it, making slicing operations much faster.\n",
        "      - Python lists create a new list when sliced, requiring extra memory allocation.\n",
        "\n",
        "    - Vectorized Operations (No Loops Needed)\n",
        "      - NumPy operations apply directly to entire arrays without Python loops, making them much faster.\n",
        "      - Python lists require explicit loops to apply operations, which is slower.\n",
        "\n",
        "\n",
        "\n",
        "# 22. What are some common use cases for Seaborn ?\n",
        "  - Seaborn is a statistical data visualization library built on top of Matplotlib, designed for creating informative, beautiful, and easy-to-interpret visualizations. It is particularly useful for exploratory data analysis (EDA) and supports automatic aggregation, categorical plots, and statistical insights.\n",
        "\n",
        "   1️. Distribution Analysis (Histograms & KDE Plots)\n",
        "    - Understand the distribution of numerical data using histplot() and kdeplot().\n",
        "\n",
        "    import seaborn as sns\n",
        "    \n",
        "    import matplotlib.pyplot as plt\n",
        "   \n",
        "   # Load sample data\n",
        "    \n",
        "     tips = sns.load_dataset(\"tips\")\n",
        "\n",
        "   # Histogram with density curve\n",
        "\n",
        "    sns.histplot(tips[\"total_bill\"], kde=True, bins=20)\n",
        "\n",
        "    plt.title(\"Distribution of Total Bill Amounts\")\n",
        "\n",
        "    plt.show()\n",
        "\n",
        "    Use Case: Analyzing sales, income, or any continuous variable."
      ],
      "metadata": {
        "id": "LzkH7efBYExQ"
      }
    },
    {
      "cell_type": "markdown",
      "source": [
        " Practical Questions"
      ],
      "metadata": {
        "id": "4q9fLED1CAlR"
      }
    },
    {
      "cell_type": "code",
      "source": [
        "# 1. How do you create a 2D NumPy array and calculate the sum of each row ?\n",
        "\n",
        "import numpy as np\n",
        "\n",
        "# Creating a 2D NumPy array (3 rows, 4 columns)\n",
        "arr = np.array([[1, 2, 3, 4],\n",
        "                [5, 6, 7, 8],\n",
        "                [9, 10, 11, 12]])\n",
        "\n",
        "print(\"2D NumPy Array:\")\n",
        "print(arr)"
      ],
      "metadata": {
        "colab": {
          "base_uri": "https://localhost:8080/"
        },
        "id": "ngrO8vMtCEd1",
        "outputId": "ff4ef703-96f8-4ce4-aeb6-9966a2d78a43"
      },
      "execution_count": null,
      "outputs": [
        {
          "output_type": "stream",
          "name": "stdout",
          "text": [
            "2D NumPy Array:\n",
            "[[ 1  2  3  4]\n",
            " [ 5  6  7  8]\n",
            " [ 9 10 11 12]]\n"
          ]
        }
      ]
    },
    {
      "cell_type": "code",
      "source": [
        "row_sums = np.sum(arr, axis=1)\n",
        "print(\"Sum of Each Row:\", row_sums)\n"
      ],
      "metadata": {
        "colab": {
          "base_uri": "https://localhost:8080/"
        },
        "id": "DqYZQjXPCY1c",
        "outputId": "cfd79f0d-2011-4c3f-d415-d2e3196997c2"
      },
      "execution_count": null,
      "outputs": [
        {
          "output_type": "stream",
          "name": "stdout",
          "text": [
            "Sum of Each Row: [10 26 42]\n"
          ]
        }
      ]
    },
    {
      "cell_type": "code",
      "source": [
        "# 2. Write a Pandas script to find the mean of a specific column in a DataFrame\n",
        "\n",
        "import pandas as pd\n",
        "\n",
        "# Creating a sample DataFrame\n",
        "data = {\n",
        "    \"Product\": [\"A\", \"B\", \"C\", \"D\", \"E\"],\n",
        "    \"Sales\": [100, 150, 200, 250, 300]\n",
        "}\n",
        "\n",
        "df = pd.DataFrame(data)\n",
        "\n",
        "# Display DataFrame\n",
        "print(df)\n",
        "\n",
        "\n"
      ],
      "metadata": {
        "id": "9ztMZorzCcrq",
        "outputId": "8e03faa8-8436-4c27-b9dc-8e7f97a546ba",
        "colab": {
          "base_uri": "https://localhost:8080/"
        }
      },
      "execution_count": null,
      "outputs": [
        {
          "output_type": "stream",
          "name": "stdout",
          "text": [
            "  Product  Sales\n",
            "0       A    100\n",
            "1       B    150\n",
            "2       C    200\n",
            "3       D    250\n",
            "4       E    300\n"
          ]
        }
      ]
    },
    {
      "cell_type": "code",
      "source": [
        "mean_sales = df[\"Sales\"].mean()\n",
        "print(\"Mean Sales:\", mean_sales)"
      ],
      "metadata": {
        "id": "WMfjhaQFCqly",
        "outputId": "c7f99be0-0d5a-4596-acd3-a51f43154b85",
        "colab": {
          "base_uri": "https://localhost:8080/"
        }
      },
      "execution_count": null,
      "outputs": [
        {
          "output_type": "stream",
          "name": "stdout",
          "text": [
            "Mean Sales: 200.0\n"
          ]
        }
      ]
    },
    {
      "cell_type": "code",
      "source": [
        "# 3. Create a scatter plot using Matplotlib\n",
        "\n",
        "import matplotlib.pyplot as plt\n",
        "import numpy as np\n",
        "\n",
        "# Generate random data\n",
        "np.random.seed(42)  # Ensures reproducibility\n",
        "x = np.random.rand(50) * 10   # X values (0 to 10)\n",
        "y = x + np.random.randn(50) * 2  # Y values with some noise\n",
        "\n",
        "# Create scatter plot\n",
        "plt.scatter(x, y, color=\"blue\", marker=\"o\", alpha=0.7)\n",
        "\n",
        "# Add labels and title\n",
        "plt.xlabel(\"X Values\")\n",
        "plt.ylabel(\"Y Values\")\n",
        "plt.title(\"Scatter Plot Example\")\n",
        "\n",
        "# Show plot\n",
        "plt.show()\n",
        "\n"
      ],
      "metadata": {
        "id": "6N9XWFoWC3fa",
        "colab": {
          "base_uri": "https://localhost:8080/",
          "height": 472
        },
        "outputId": "aad9c227-358a-4fb4-974d-699450c34d31"
      },
      "execution_count": 7,
      "outputs": [
        {
          "output_type": "display_data",
          "data": {
            "text/plain": [
              "<Figure size 640x480 with 1 Axes>"
            ],
            "image/png": "[encoded data removed]"
          },
          "metadata": {}
        }
      ]
    },
    {
      "cell_type": "code",
      "source": [
        "# 4. How do you calculate the correlation matrix using Seaborn and visualize it with a heatmap ?\n",
        "\n",
        "import pandas as pd\n",
        "import seaborn as sns\n",
        "import matplotlib.pyplot as plt\n",
        "\n",
        "# Sample dataset\n",
        "data = {\n",
        "    \"Sales\": [100, 150, 200, 250, 300],\n",
        "    \"Profit\": [20, 30, 50, 70, 90],\n",
        "    \"Cost\": [80, 120, 150, 180, 210]\n",
        "}\n",
        "\n",
        "df = pd.DataFrame(data)\n",
        "\n",
        "# Compute the correlation matrix\n",
        "corr_matrix = df.corr()\n",
        "print(corr_matrix)  # Displays correlation values\n"
      ],
      "metadata": {
        "colab": {
          "base_uri": "https://localhost:8080/"
        },
        "id": "PhojIKltDrB2",
        "outputId": "d9a43068-eb30-4c49-d408-0af5e94218d0"
      },
      "execution_count": 8,
      "outputs": [
        {
          "output_type": "stream",
          "name": "stdout",
          "text": [
            "           Sales    Profit      Cost\n",
            "Sales   1.000000  0.993884  0.998053\n",
            "Profit  0.993884  1.000000  0.985060\n",
            "Cost    0.998053  0.985060  1.000000\n"
          ]
        }
      ]
    },
    {
      "cell_type": "code",
      "source": [
        "# Create heatmap\n",
        "plt.figure(figsize=(6, 4))\n",
        "sns.heatmap(corr_matrix, annot=True, cmap=\"coolwarm\", linewidths=0.5)\n",
        "\n",
        "# Add title\n",
        "plt.title(\"Correlation Matrix Heatmap\")\n",
        "plt.show()"
      ],
      "metadata": {
        "colab": {
          "base_uri": "https://localhost:8080/",
          "height": 391
        },
        "id": "_Wdwem6KEAJ7",
        "outputId": "ab1e93fa-a265-4c6e-93bf-6596e1cc2c25"
      },
      "execution_count": 9,
      "outputs": [
        {
          "output_type": "display_data",
          "data": {
            "text/plain": [
              "<Figure size 600x400 with 2 Axes>"
            ],
            "image/png": "[encoded data removed]"
          },
          "metadata": {}
        }
      ]
    },
    {
      "cell_type": "code",
      "source": [
        "# 5. Generate a bar plot using Plotly ?\n",
        "\n",
        "import plotly.express as px\n",
        "import pandas as pd\n",
        "\n",
        "# Sample dataset\n",
        "data = {\n",
        "    \"Product\": [\"A\", \"B\", \"C\", \"D\", \"E\"],\n",
        "    \"Sales\": [100, 150, 200, 250, 300]\n",
        "}\n",
        "\n",
        "df = pd.DataFrame(data)\n",
        "\n",
        "# Create bar plot\n",
        "fig = px.bar(df, x=\"Product\", y=\"Sales\", title=\"Sales by Product\", color=\"Product\")\n",
        "\n",
        "# Show plot\n",
        "fig.show()\n"
      ],
      "metadata": {
        "colab": {
          "base_uri": "https://localhost:8080/",
          "height": 542
        },
        "id": "ew7LcYtGEGRo",
        "outputId": "24015028-acac-427d-a206-5e0977e1fe6c"
      },
      "execution_count": 10,
      "outputs": [
        {
          "output_type": "display_data",
          "data": {
            "text/html": [
              "<html>\n",
              "<head><meta charset=\"utf-8\" /></head>\n",
              "<body>\n",
              "    <div>            <script src=\"https://cdnjs.cloudflare.com/ajax/libs/mathjax/2.7.5/MathJax.js?config=TeX-AMS-MML_SVG\"></script><script type=\"text/javascript\">if (window.MathJax && window.MathJax.Hub && window.MathJax.Hub.Config) {window.MathJax.Hub.Config({SVG: {font: \"STIX-Web\"}});}</script>                <script type=\"text/javascript\">window.PlotlyConfig = {MathJaxConfig: 'local'};</script>\n",
              "        <script charset=\"utf-8\" src=\"https://cdn.plot.ly/plotly-2.35.2.min.js\"></script>                <div id=\"56740ed5-3f9e-4ed2-9b40-915935e9c305\" class=\"plotly-graph-div\" style=\"height:525px; width:100%;\"></div>            <script type=\"text/javascript\">                                    window.PLOTLYENV=window.PLOTLYENV || {};                                    if (document.getElementById(\"56740ed5-3f9e-4ed2-9b40-915935e9c305\")) {                    Plotly.newPlot(                        \"56740ed5-3f9e-4ed2-9b40-915935e9c305\",                        [{\"alignmentgroup\":\"True\",\"hovertemplate\":\"Product=%{x}\\u003cbr\\u003eSales=%{y}\\u003cextra\\u003e\\u003c\\u002fextra\\u003e\",\"legendgroup\":\"A\",\"marker\":{\"color\":\"#636efa\",\"pattern\":{\"shape\":\"\"}},\"name\":\"A\",\"offsetgroup\":\"A\",\"orientation\":\"v\",\"showlegend\":true,\"textposition\":\"auto\",\"x\":[\"A\"],\"xaxis\":\"x\",\"y\":[100],\"yaxis\":\"y\",\"type\":\"bar\"},{\"alignmentgroup\":\"True\",\"hovertemplate\":\"Product=%{x}\\u003cbr\\u003eSales=%{y}\\u003cextra\\u003e\\u003c\\u002fextra\\u003e\",\"legendgroup\":\"B\",\"marker\":{\"color\":\"#EF553B\",\"pattern\":{\"shape\":\"\"}},\"name\":\"B\",\"offsetgroup\":\"B\",\"orientation\":\"v\",\"showlegend\":true,\"textposition\":\"auto\",\"x\":[\"B\"],\"xaxis\":\"x\",\"y\":[150],\"yaxis\":\"y\",\"type\":\"bar\"},{\"alignmentgroup\":\"True\",\"hovertemplate\":\"Product=%{x}\\u003cbr\\u003eSales=%{y}\\u003cextra\\u003e\\u003c\\u002fextra\\u003e\",\"legendgroup\":\"C\",\"marker\":{\"color\":\"#00cc96\",\"pattern\":{\"shape\":\"\"}},\"name\":\"C\",\"offsetgroup\":\"C\",\"orientation\":\"v\",\"showlegend\":true,\"textposition\":\"auto\",\"x\":[\"C\"],\"xaxis\":\"x\",\"y\":[200],\"yaxis\":\"y\",\"type\":\"bar\"},{\"alignmentgroup\":\"True\",\"hovertemplate\":\"Product=%{x}\\u003cbr\\u003eSales=%{y}\\u003cextra\\u003e\\u003c\\u002fextra\\u003e\",\"legendgroup\":\"D\",\"marker\":{\"color\":\"#ab63fa\",\"pattern\":{\"shape\":\"\"}},\"name\":\"D\",\"offsetgroup\":\"D\",\"orientation\":\"v\",\"showlegend\":true,\"textposition\":\"auto\",\"x\":[\"D\"],\"xaxis\":\"x\",\"y\":[250],\"yaxis\":\"y\",\"type\":\"bar\"},{\"alignmentgroup\":\"True\",\"hovertemplate\":\"Product=%{x}\\u003cbr\\u003eSales=%{y}\\u003cextra\\u003e\\u003c\\u002fextra\\u003e\",\"legendgroup\":\"E\",\"marker\":{\"color\":\"#FFA15A\",\"pattern\":{\"shape\":\"\"}},\"name\":\"E\",\"offsetgroup\":\"E\",\"orientation\":\"v\",\"showlegend\":true,\"textposition\":\"auto\",\"x\":[\"E\"],\"xaxis\":\"x\",\"y\":[300],\"yaxis\":\"y\",\"type\":\"bar\"}],                        {\"template\":{\"data\":{\"histogram2dcontour\":[{\"type\":\"histogram2dcontour\",\"colorbar\":{\"outlinewidth\":0,\"ticks\":\"\"},\"colorscale\":[[0.0,\"#0d0887\"],[0.1111111111111111,\"#46039f\"],[0.2222222222222222,\"#7201a8\"],[0.3333333333333333,\"#9c179e\"],[0.4444444444444444,\"#bd3786\"],[0.5555555555555556,\"#d8576b\"],[0.6666666666666666,\"#ed7953\"],[0.7777777777777778,\"#fb9f3a\"],[0.8888888888888888,\"#fdca26\"],[1.0,\"#f0f921\"]]}],\"choropleth\":[{\"type\":\"choropleth\",\"colorbar\":{\"outlinewidth\":0,\"ticks\":\"\"}}],\"histogram2d\":[{\"type\":\"histogram2d\",\"colorbar\":{\"outlinewidth\":0,\"ticks\":\"\"},\"colorscale\":[[0.0,\"#0d0887\"],[0.1111111111111111,\"#46039f\"],[0.2222222222222222,\"#7201a8\"],[0.3333333333333333,\"#9c179e\"],[0.4444444444444444,\"#bd3786\"],[0.5555555555555556,\"#d8576b\"],[0.6666666666666666,\"#ed7953\"],[0.7777777777777778,\"#fb9f3a\"],[0.8888888888888888,\"#fdca26\"],[1.0,\"#f0f921\"]]}],\"heatmap\":[{\"type\":\"heatmap\",\"colorbar\":{\"outlinewidth\":0,\"ticks\":\"\"},\"colorscale\":[[0.0,\"#0d0887\"],[0.1111111111111111,\"#46039f\"],[0.2222222222222222,\"#7201a8\"],[0.3333333333333333,\"#9c179e\"],[0.4444444444444444,\"#bd3786\"],[0.5555555555555556,\"#d8576b\"],[0.6666666666666666,\"#ed7953\"],[0.7777777777777778,\"#fb9f3a\"],[0.8888888888888888,\"#fdca26\"],[1.0,\"#f0f921\"]]}],\"heatmapgl\":[{\"type\":\"heatmapgl\",\"colorbar\":{\"outlinewidth\":0,\"ticks\":\"\"},\"colorscale\":[[0.0,\"#0d0887\"],[0.1111111111111111,\"#46039f\"],[0.2222222222222222,\"#7201a8\"],[0.3333333333333333,\"#9c179e\"],[0.4444444444444444,\"#bd3786\"],[0.5555555555555556,\"#d8576b\"],[0.6666666666666666,\"#ed7953\"],[0.7777777777777778,\"#fb9f3a\"],[0.8888888888888888,\"#fdca26\"],[1.0,\"#f0f921\"]]}],\"contourcarpet\":[{\"type\":\"contourcarpet\",\"colorbar\":{\"outlinewidth\":0,\"ticks\":\"\"}}],\"contour\":[{\"type\":\"contour\",\"colorbar\":{\"outlinewidth\":0,\"ticks\":\"\"},\"colorscale\":[[0.0,\"#0d0887\"],[0.1111111111111111,\"#46039f\"],[0.2222222222222222,\"#7201a8\"],[0.3333333333333333,\"#9c179e\"],[0.4444444444444444,\"#bd3786\"],[0.5555555555555556,\"#d8576b\"],[0.6666666666666666,\"#ed7953\"],[0.7777777777777778,\"#fb9f3a\"],[0.8888888888888888,\"#fdca26\"],[1.0,\"#f0f921\"]]}],\"surface\":[{\"type\":\"surface\",\"colorbar\":{\"outlinewidth\":0,\"ticks\":\"\"},\"colorscale\":[[0.0,\"#0d0887\"],[0.1111111111111111,\"#46039f\"],[0.2222222222222222,\"#7201a8\"],[0.3333333333333333,\"#9c179e\"],[0.4444444444444444,\"#bd3786\"],[0.5555555555555556,\"#d8576b\"],[0.6666666666666666,\"#ed7953\"],[0.7777777777777778,\"#fb9f3a\"],[0.8888888888888888,\"#fdca26\"],[1.0,\"#f0f921\"]]}],\"mesh3d\":[{\"type\":\"mesh3d\",\"colorbar\":{\"outlinewidth\":0,\"ticks\":\"\"}}],\"scatter\":[{\"fillpattern\":{\"fillmode\":\"overlay\",\"size\":10,\"solidity\":0.2},\"type\":\"scatter\"}],\"parcoords\":[{\"type\":\"parcoords\",\"line\":{\"colorbar\":{\"outlinewidth\":0,\"ticks\":\"\"}}}],\"scatterpolargl\":[{\"type\":\"scatterpolargl\",\"marker\":{\"colorbar\":{\"outlinewidth\":0,\"ticks\":\"\"}}}],\"bar\":[{\"error_x\":{\"color\":\"#2a3f5f\"},\"error_y\":{\"color\":\"#2a3f5f\"},\"marker\":{\"line\":{\"color\":\"#E5ECF6\",\"width\":0.5},\"pattern\":{\"fillmode\":\"overlay\",\"size\":10,\"solidity\":0.2}},\"type\":\"bar\"}],\"scattergeo\":[{\"type\":\"scattergeo\",\"marker\":{\"colorbar\":{\"outlinewidth\":0,\"ticks\":\"\"}}}],\"scatterpolar\":[{\"type\":\"scatterpolar\",\"marker\":{\"colorbar\":{\"outlinewidth\":0,\"ticks\":\"\"}}}],\"histogram\":[{\"marker\":{\"pattern\":{\"fillmode\":\"overlay\",\"size\":10,\"solidity\":0.2}},\"type\":\"histogram\"}],\"scattergl\":[{\"type\":\"scattergl\",\"marker\":{\"colorbar\":{\"outlinewidth\":0,\"ticks\":\"\"}}}],\"scatter3d\":[{\"type\":\"scatter3d\",\"line\":{\"colorbar\":{\"outlinewidth\":0,\"ticks\":\"\"}},\"marker\":{\"colorbar\":{\"outlinewidth\":0,\"ticks\":\"\"}}}],\"scattermapbox\":[{\"type\":\"scattermapbox\",\"marker\":{\"colorbar\":{\"outlinewidth\":0,\"ticks\":\"\"}}}],\"scatterternary\":[{\"type\":\"scatterternary\",\"marker\":{\"colorbar\":{\"outlinewidth\":0,\"ticks\":\"\"}}}],\"scattercarpet\":[{\"type\":\"scattercarpet\",\"marker\":{\"colorbar\":{\"outlinewidth\":0,\"ticks\":\"\"}}}],\"carpet\":[{\"aaxis\":{\"endlinecolor\":\"#2a3f5f\",\"gridcolor\":\"white\",\"linecolor\":\"white\",\"minorgridcolor\":\"white\",\"startlinecolor\":\"#2a3f5f\"},\"baxis\":{\"endlinecolor\":\"#2a3f5f\",\"gridcolor\":\"white\",\"linecolor\":\"white\",\"minorgridcolor\":\"white\",\"startlinecolor\":\"#2a3f5f\"},\"type\":\"carpet\"}],\"table\":[{\"cells\":{\"fill\":{\"color\":\"#EBF0F8\"},\"line\":{\"color\":\"white\"}},\"header\":{\"fill\":{\"color\":\"#C8D4E3\"},\"line\":{\"color\":\"white\"}},\"type\":\"table\"}],\"barpolar\":[{\"marker\":{\"line\":{\"color\":\"#E5ECF6\",\"width\":0.5},\"pattern\":{\"fillmode\":\"overlay\",\"size\":10,\"solidity\":0.2}},\"type\":\"barpolar\"}],\"pie\":[{\"automargin\":true,\"type\":\"pie\"}]},\"layout\":{\"autotypenumbers\":\"strict\",\"colorway\":[\"#636efa\",\"#EF553B\",\"#00cc96\",\"#ab63fa\",\"#FFA15A\",\"#19d3f3\",\"#FF6692\",\"#B6E880\",\"#FF97FF\",\"#FECB52\"],\"font\":{\"color\":\"#2a3f5f\"},\"hovermode\":\"closest\",\"hoverlabel\":{\"align\":\"left\"},\"paper_bgcolor\":\"white\",\"plot_bgcolor\":\"#E5ECF6\",\"polar\":{\"bgcolor\":\"#E5ECF6\",\"angularaxis\":{\"gridcolor\":\"white\",\"linecolor\":\"white\",\"ticks\":\"\"},\"radialaxis\":{\"gridcolor\":\"white\",\"linecolor\":\"white\",\"ticks\":\"\"}},\"ternary\":{\"bgcolor\":\"#E5ECF6\",\"aaxis\":{\"gridcolor\":\"white\",\"linecolor\":\"white\",\"ticks\":\"\"},\"baxis\":{\"gridcolor\":\"white\",\"linecolor\":\"white\",\"ticks\":\"\"},\"caxis\":{\"gridcolor\":\"white\",\"linecolor\":\"white\",\"ticks\":\"\"}},\"coloraxis\":{\"colorbar\":{\"outlinewidth\":0,\"ticks\":\"\"}},\"colorscale\":{\"sequential\":[[0.0,\"#0d0887\"],[0.1111111111111111,\"#46039f\"],[0.2222222222222222,\"#7201a8\"],[0.3333333333333333,\"#9c179e\"],[0.4444444444444444,\"#bd3786\"],[0.5555555555555556,\"#d8576b\"],[0.6666666666666666,\"#ed7953\"],[0.7777777777777778,\"#fb9f3a\"],[0.8888888888888888,\"#fdca26\"],[1.0,\"#f0f921\"]],\"sequentialminus\":[[0.0,\"#0d0887\"],[0.1111111111111111,\"#46039f\"],[0.2222222222222222,\"#7201a8\"],[0.3333333333333333,\"#9c179e\"],[0.4444444444444444,\"#bd3786\"],[0.5555555555555556,\"#d8576b\"],[0.6666666666666666,\"#ed7953\"],[0.7777777777777778,\"#fb9f3a\"],[0.8888888888888888,\"#fdca26\"],[1.0,\"#f0f921\"]],\"diverging\":[[0,\"#8e0152\"],[0.1,\"#c51b7d\"],[0.2,\"#de77ae\"],[0.3,\"#f1b6da\"],[0.4,\"#fde0ef\"],[0.5,\"#f7f7f7\"],[0.6,\"#e6f5d0\"],[0.7,\"#b8e186\"],[0.8,\"#7fbc41\"],[0.9,\"#4d9221\"],[1,\"#276419\"]]},\"xaxis\":{\"gridcolor\":\"white\",\"linecolor\":\"white\",\"ticks\":\"\",\"title\":{\"standoff\":15},\"zerolinecolor\":\"white\",\"automargin\":true,\"zerolinewidth\":2},\"yaxis\":{\"gridcolor\":\"white\",\"linecolor\":\"white\",\"ticks\":\"\",\"title\":{\"standoff\":15},\"zerolinecolor\":\"white\",\"automargin\":true,\"zerolinewidth\":2},\"scene\":{\"xaxis\":{\"backgroundcolor\":\"#E5ECF6\",\"gridcolor\":\"white\",\"linecolor\":\"white\",\"showbackground\":true,\"ticks\":\"\",\"zerolinecolor\":\"white\",\"gridwidth\":2},\"yaxis\":{\"backgroundcolor\":\"#E5ECF6\",\"gridcolor\":\"white\",\"linecolor\":\"white\",\"showbackground\":true,\"ticks\":\"\",\"zerolinecolor\":\"white\",\"gridwidth\":2},\"zaxis\":{\"backgroundcolor\":\"#E5ECF6\",\"gridcolor\":\"white\",\"linecolor\":\"white\",\"showbackground\":true,\"ticks\":\"\",\"zerolinecolor\":\"white\",\"gridwidth\":2}},\"shapedefaults\":{\"line\":{\"color\":\"#2a3f5f\"}},\"annotationdefaults\":{\"arrowcolor\":\"#2a3f5f\",\"arrowhead\":0,\"arrowwidth\":1},\"geo\":{\"bgcolor\":\"white\",\"landcolor\":\"#E5ECF6\",\"subunitcolor\":\"white\",\"showland\":true,\"showlakes\":true,\"lakecolor\":\"white\"},\"title\":{\"x\":0.05},\"mapbox\":{\"style\":\"light\"}}},\"xaxis\":{\"anchor\":\"y\",\"domain\":[0.0,1.0],\"title\":{\"text\":\"Product\"},\"categoryorder\":\"array\",\"categoryarray\":[\"A\",\"B\",\"C\",\"D\",\"E\"]},\"yaxis\":{\"anchor\":\"x\",\"domain\":[0.0,1.0],\"title\":{\"text\":\"Sales\"}},\"legend\":{\"title\":{\"text\":\"Product\"},\"tracegroupgap\":0},\"title\":{\"text\":\"Sales by Product\"},\"barmode\":\"relative\"},                        {\"responsive\": true}                    ).then(function(){\n",
              "                            \n",
              "var gd = document.getElementById('56740ed5-3f9e-4ed2-9b40-915935e9c305');\n",
              "var x = new MutationObserver(function (mutations, observer) {{\n",
              "        var display = window.getComputedStyle(gd).display;\n",
              "        if (!display || display === 'none') {{\n",
              "            console.log([gd, 'removed!']);\n",
              "            Plotly.purge(gd);\n",
              "            observer.disconnect();\n",
              "        }}\n",
              "}});\n",
              "\n",
              "// Listen for the removal of the full notebook cells\n",
              "var notebookContainer = gd.closest('#notebook-container');\n",
              "if (notebookContainer) {{\n",
              "    x.observe(notebookContainer, {childList: true});\n",
              "}}\n",
              "\n",
              "// Listen for the clearing of the current output cell\n",
              "var outputEl = gd.closest('.output');\n",
              "if (outputEl) {{\n",
              "    x.observe(outputEl, {childList: true});\n",
              "}}\n",
              "\n",
              "                        })                };                            </script>        </div>\n",
              "</body>\n",
              "</html>"
            ]
          },
          "metadata": {}
        }
      ]
    },
    {
      "cell_type": "code",
      "source": [
        "# 6. Create a DataFrame and add a new column based on an existing column\n",
        "\n",
        "import pandas as pd\n",
        "\n",
        "# Sample DataFrame\n",
        "data = {\n",
        "    \"Product\": [\"A\", \"B\", \"C\", \"D\", \"E\"],\n",
        "    \"Sales\": [100, 150, 200, 250, 300]\n",
        "}\n",
        "\n",
        "df = pd.DataFrame(data)\n",
        "print(df)\n"
      ],
      "metadata": {
        "colab": {
          "base_uri": "https://localhost:8080/"
        },
        "id": "elpdnkTJEQz1",
        "outputId": "04fa6d5f-8fbd-4419-c3b8-b727cc25adb2"
      },
      "execution_count": 11,
      "outputs": [
        {
          "output_type": "stream",
          "name": "stdout",
          "text": [
            "  Product  Sales\n",
            "0       A    100\n",
            "1       B    150\n",
            "2       C    200\n",
            "3       D    250\n",
            "4       E    300\n"
          ]
        }
      ]
    },
    {
      "cell_type": "code",
      "source": [
        "df[\"Tax\"] = df[\"Sales\"] * 0.10  # 10% tax on sales\n",
        "print(df)\n"
      ],
      "metadata": {
        "colab": {
          "base_uri": "https://localhost:8080/"
        },
        "id": "CHMdZRYhEfDx",
        "outputId": "93f2c456-724f-4955-e9e5-0c5e84cf2596"
      },
      "execution_count": 12,
      "outputs": [
        {
          "output_type": "stream",
          "name": "stdout",
          "text": [
            "  Product  Sales   Tax\n",
            "0       A    100  10.0\n",
            "1       B    150  15.0\n",
            "2       C    200  20.0\n",
            "3       D    250  25.0\n",
            "4       E    300  30.0\n"
          ]
        }
      ]
    },
    {
      "cell_type": "code",
      "source": [
        "# 7. Write a program to perform element-wise multiplication of two NumPy arrays\n",
        "\n",
        "import numpy as np\n",
        "\n",
        "# Create two NumPy arrays\n",
        "arr1 = np.array([1, 2, 3, 4, 5])\n",
        "arr2 = np.array([10, 20, 30, 40, 50])\n",
        "\n",
        "# Element-wise multiplication\n",
        "result = arr1 * arr2\n",
        "\n",
        "print(\"Result of Element-Wise Multiplication:\", result)"
      ],
      "metadata": {
        "colab": {
          "base_uri": "https://localhost:8080/"
        },
        "id": "L54M2xwMEnDL",
        "outputId": "dacd5481-a811-4385-823d-db32833332b8"
      },
      "execution_count": 13,
      "outputs": [
        {
          "output_type": "stream",
          "name": "stdout",
          "text": [
            "Result of Element-Wise Multiplication: [ 10  40  90 160 250]\n"
          ]
        }
      ]
    },
    {
      "cell_type": "code",
      "source": [
        "# 8. Create a line plot with multiple lines using Matplotlib\n",
        "\n",
        "import matplotlib.pyplot as plt\n",
        "import numpy as np\n",
        "\n",
        "# Generate sample data\n",
        "x = np.arange(1, 11)  # X values (1 to 10)\n",
        "y1 = x * 2            # First line (y = 2x)\n",
        "y2 = x ** 2           # Second line (y = x^2)\n",
        "y3 = np.log(x) * 10   # Third line (logarithmic curve)\n",
        "\n",
        "# Create the plot\n",
        "plt.figure(figsize=(8, 5))\n",
        "plt.plot(x, y1, label=\"y = 2x\", marker=\"o\", linestyle=\"--\")\n",
        "plt.plot(x, y2, label=\"y = x²\", marker=\"s\", linestyle=\"-\")\n",
        "plt.plot(x, y3, label=\"y = 10log(x)\", marker=\"d\", linestyle=\":\")\n",
        "\n",
        "# Add labels and title\n",
        "plt.xlabel(\"X Values\")\n",
        "plt.ylabel(\"Y Values\")\n",
        "plt.title(\"Multiple Line Plot Example\")\n",
        "plt.legend()  # Show legend\n",
        "plt.grid(True)  # Add grid\n",
        "\n",
        "# Show the plot\n",
        "plt.show()\n"
      ],
      "metadata": {
        "colab": {
          "base_uri": "https://localhost:8080/",
          "height": 487
        },
        "id": "eFpJdGoFE8i8",
        "outputId": "df388135-9f7d-45b4-bb01-9f75f4bbfd0a"
      },
      "execution_count": 14,
      "outputs": [
        {
          "output_type": "display_data",
          "data": {
            "text/plain": [
              "<Figure size 800x500 with 1 Axes>"
            ],
            "image/png": "[encoded data removed]"
          },
          "metadata": {}
        }
      ]
    },
    {
      "cell_type": "code",
      "source": [
        "# 9.  Generate a Pandas DataFrame and filter rows where a column value is greater than a threshold\n",
        "\n",
        "import pandas as pd\n",
        "\n",
        "# Sample DataFrame\n",
        "data = {\n",
        "    \"Product\": [\"A\", \"B\", \"C\", \"D\", \"E\"],\n",
        "    \"Sales\": [100, 150, 200, 250, 300]\n",
        "}\n",
        "\n",
        "df = pd.DataFrame(data)\n",
        "\n",
        "# Display DataFrame\n",
        "print(\"Original DataFrame:\")\n",
        "print(df)\n"
      ],
      "metadata": {
        "colab": {
          "base_uri": "https://localhost:8080/"
        },
        "id": "5xaR3o6AFmZ2",
        "outputId": "3b61ddb8-5605-45e3-f3b6-88a6d6888750"
      },
      "execution_count": 15,
      "outputs": [
        {
          "output_type": "stream",
          "name": "stdout",
          "text": [
            "Original DataFrame:\n",
            "  Product  Sales\n",
            "0       A    100\n",
            "1       B    150\n",
            "2       C    200\n",
            "3       D    250\n",
            "4       E    300\n"
          ]
        }
      ]
    },
    {
      "cell_type": "code",
      "source": [
        "# Define threshold\n",
        "threshold = 200\n",
        "\n",
        "# Filter rows where Sales > threshold\n",
        "filtered_df = df[df[\"Sales\"] > threshold]\n",
        "\n",
        "print(\"\\nFiltered DataFrame (Sales > 200):\")\n",
        "print(filtered_df)"
      ],
      "metadata": {
        "colab": {
          "base_uri": "https://localhost:8080/"
        },
        "id": "xkYl4evCF2vA",
        "outputId": "888a1ffe-20c6-49e2-d0b1-bdad2db10cbb"
      },
      "execution_count": 16,
      "outputs": [
        {
          "output_type": "stream",
          "name": "stdout",
          "text": [
            "\n",
            "Filtered DataFrame (Sales > 200):\n",
            "  Product  Sales\n",
            "3       D    250\n",
            "4       E    300\n"
          ]
        }
      ]
    },
    {
      "cell_type": "code",
      "source": [
        "# 10. Create a histogram using Seaborn to visualize a distribution\n",
        "\n",
        "import seaborn as sns\n",
        "import matplotlib.pyplot as plt\n",
        "import numpy as np\n",
        "\n",
        "# Generate random data\n",
        "np.random.seed(42)\n",
        "data = np.random.randn(200)  # 200 random values from a normal distribution\n",
        "\n",
        "# Create histogram\n",
        "plt.figure(figsize=(8, 5))\n",
        "sns.histplot(data, bins=20, kde=True, color=\"blue\")\n",
        "\n",
        "# Add labels and title\n",
        "plt.xlabel(\"Value\")\n",
        "plt.ylabel(\"Frequency\")\n",
        "plt.title(\"Histogram of Random Data\")\n",
        "\n",
        "# Show the plot\n",
        "plt.show()"
      ],
      "metadata": {
        "colab": {
          "base_uri": "https://localhost:8080/",
          "height": 487
        },
        "id": "FJh4-a48GCYa",
        "outputId": "f9ad8e5f-6478-4f6a-bf9f-e919182fd21a"
      },
      "execution_count": 17,
      "outputs": [
        {
          "output_type": "display_data",
          "data": {
            "text/plain": [
              "<Figure size 800x500 with 1 Axes>"
            ],
            "image/png": "[encoded data removed]"
          },
          "metadata": {}
        }
      ]
    },
    {
      "cell_type": "code",
      "source": [
        "# 11. Perform matrix multiplication using NumPy\n",
        "\n",
        "import numpy as np\n",
        "\n",
        "# Define two matrices\n",
        "A = np.array([[1, 2], [3, 4]])\n",
        "B = np.array([[5, 6], [7, 8]])\n",
        "\n",
        "# Perform matrix multiplication\n",
        "result = np.dot(A, B)\n",
        "\n",
        "print(\"Matrix A:\\n\", A)\n",
        "print(\"Matrix B:\\n\", B)\n",
        "print(\"Result of A × B:\\n\", result)\n"
      ],
      "metadata": {
        "colab": {
          "base_uri": "https://localhost:8080/"
        },
        "id": "RBm4XsVUG-lM",
        "outputId": "8cc04136-665c-41a0-bf15-ae17d2d89a8c"
      },
      "execution_count": 18,
      "outputs": [
        {
          "output_type": "stream",
          "name": "stdout",
          "text": [
            "Matrix A:\n",
            " [[1 2]\n",
            " [3 4]]\n",
            "Matrix B:\n",
            " [[5 6]\n",
            " [7 8]]\n",
            "Result of A × B:\n",
            " [[19 22]\n",
            " [43 50]]\n"
          ]
        }
      ]
    },
    {
      "cell_type": "code",
      "source": [
        "# 12. Use Pandas to load a CSV file and display its first 5 rows\n",
        "\n",
        "import csv\n",
        "\n",
        "# Data to be written\n",
        "data = [\n",
        "    [\"Name\", \"Age\", \"City\"],\n",
        "    [\"Alice\", 25, \"New York\"],\n",
        "    [\"Bob\", 30, \"Los Angeles\"],\n",
        "    [\"Charlie\", 35, \"Chicago\"]\n",
        "]\n",
        "\n",
        "# Create and write to CSV file\n",
        "with open(\"my_data.csv\", mode=\"w\", newline=\"\") as file:\n",
        "    writer = csv.writer(file)\n",
        "    writer.writerows(data)\n",
        "\n",
        "print(\"CSV file created successfully!\")\n",
        "\n"
      ],
      "metadata": {
        "colab": {
          "base_uri": "https://localhost:8080/"
        },
        "id": "VppERD5XHNIG",
        "outputId": "065d3801-37bb-4e26-c1b2-28af76804572"
      },
      "execution_count": 27,
      "outputs": [
        {
          "output_type": "stream",
          "name": "stdout",
          "text": [
            "CSV file created successfully!\n"
          ]
        }
      ]
    },
    {
      "cell_type": "code",
      "source": [
        "import os; print(os.listdir())"
      ],
      "metadata": {
        "colab": {
          "base_uri": "https://localhost:8080/"
        },
        "id": "wSHA5_o5NeO6",
        "outputId": "c9538dbd-eff0-44c2-a84b-dcda3c5fd63f"
      },
      "execution_count": 28,
      "outputs": [
        {
          "output_type": "stream",
          "name": "stdout",
          "text": [
            "['.config', 'my_data.csv', 'sample_data']\n"
          ]
        }
      ]
    },
    {
      "cell_type": "code",
      "source": [
        "import pandas as pd\n",
        "\n",
        "# Load the CSV file\n",
        "df = pd.read_csv(\"my_data.csv\")\n",
        "\n",
        "# Display first 5 rows\n",
        "print(df.head())"
      ],
      "metadata": {
        "colab": {
          "base_uri": "https://localhost:8080/"
        },
        "id": "8lMOKILdNiL9",
        "outputId": "ee7a555e-2787-4d5f-cfb7-2a6fe18e1a04"
      },
      "execution_count": 29,
      "outputs": [
        {
          "output_type": "stream",
          "name": "stdout",
          "text": [
            "      Name  Age         City\n",
            "0    Alice   25     New York\n",
            "1      Bob   30  Los Angeles\n",
            "2  Charlie   35      Chicago\n"
          ]
        }
      ]
    },
    {
      "cell_type": "code",
      "source": [
        "# 13. Create a 3D scatter plot using Plotly.\n",
        "\n",
        "import plotly.graph_objects as go\n",
        "import numpy as np\n",
        "\n",
        "# Generate random data\n",
        "np.random.seed(42)\n",
        "x = np.random.rand(50) * 10   # X values\n",
        "y = np.random.rand(50) * 10   # Y values\n",
        "z = np.random.rand(50) * 10   # Z values\n",
        "\n",
        "# Create 3D Scatter Plot\n",
        "fig = go.Figure(data=[go.Scatter3d(\n",
        "    x=x, y=y, z=z,\n",
        "    mode='markers',\n",
        "    marker=dict(\n",
        "        size=5,\n",
        "        color=z,  # Color based on Z values\n",
        "        colorscale='Viridis',  # Color theme\n",
        "        opacity=0.8\n",
        "    )\n",
        ")])\n",
        "\n",
        "# Add labels and title\n",
        "fig.update_layout(\n",
        "    title=\"3D Scatter Plot\",\n",
        "    scene=dict(\n",
        "        xaxis_title=\"X Axis\",\n",
        "        yaxis_title=\"Y Axis\",\n",
        "        zaxis_title=\"Z Axis\"\n",
        "    )\n",
        ")\n",
        "\n",
        "# Show the plot\n",
        "fig.show()\n"
      ],
      "metadata": {
        "colab": {
          "base_uri": "https://localhost:8080/",
          "height": 542
        },
        "id": "Xfds7Hx-JP6m",
        "outputId": "97f5ec5f-2256-465b-b064-9f407b36d69c"
      },
      "execution_count": 20,
      "outputs": [
        {
          "output_type": "display_data",
          "data": {
            "text/html": [
              "<html>\n",
              "<head><meta charset=\"utf-8\" /></head>\n",
              "<body>\n",
              "    <div>            <script src=\"https://cdnjs.cloudflare.com/ajax/libs/mathjax/2.7.5/MathJax.js?config=TeX-AMS-MML_SVG\"></script><script type=\"text/javascript\">if (window.MathJax && window.MathJax.Hub && window.MathJax.Hub.Config) {window.MathJax.Hub.Config({SVG: {font: \"STIX-Web\"}});}</script>                <script type=\"text/javascript\">window.PlotlyConfig = {MathJaxConfig: 'local'};</script>\n",
              "        <script charset=\"utf-8\" src=\"https://cdn.plot.ly/plotly-2.35.2.min.js\"></script>                <div id=\"e23c38bf-ff95-4eef-9a09-4047c1d903c1\" class=\"plotly-graph-div\" style=\"height:525px; width:100%;\"></div>            <script type=\"text/javascript\">                                    window.PLOTLYENV=window.PLOTLYENV || {};                                    if (document.getElementById(\"e23c38bf-ff95-4eef-9a09-4047c1d903c1\")) {                    Plotly.newPlot(                        \"e23c38bf-ff95-4eef-9a09-4047c1d903c1\",                        [{\"marker\":{\"color\":[0.3142918568673425,6.364104112637804,3.143559810763267,5.085706911647028,9.07566473926093,2.4929222914887497,4.103829230356297,7.555511385430487,2.2879816549162246,0.7697990982879299,2.8975145291376805,1.6122128725400442,9.29697652342573,8.08120379564417,6.334037565104235,8.714605901877178,8.036720768991145,1.8657005888603584,8.925589984899778,5.393422419156507,8.074401551640625,8.960912999234932,3.1800347497186388,1.1005192452767676,2.279351625419417,4.271077886262563,8.18014765922493,8.607305832563434,0.06952130531190703,5.107473025775658,4.17411003148779,2.2210781047073027,1.198653673336828,3.3761517140362796,9.429097039125192,3.2320293202075523,5.187906217433661,7.030189588951778,3.63629602379294,9.717820827209607,9.624472949421111,2.5178229582536416,4.972485058923855,3.0087830981676964,2.848404943774676,0.36886947354532795,6.095643339798968,5.026790232288615,0.5147875124998935,2.7864646423661146],\"colorscale\":[[0.0,\"#440154\"],[0.1111111111111111,\"#482878\"],[0.2222222222222222,\"#3e4989\"],[0.3333333333333333,\"#31688e\"],[0.4444444444444444,\"#26828e\"],[0.5555555555555556,\"#1f9e89\"],[0.6666666666666666,\"#35b779\"],[0.7777777777777778,\"#6ece58\"],[0.8888888888888888,\"#b5de2b\"],[1.0,\"#fde725\"]],\"opacity\":0.8,\"size\":5},\"mode\":\"markers\",\"x\":[3.745401188473625,9.50714306409916,7.319939418114051,5.986584841970366,1.5601864044243652,1.5599452033620265,0.5808361216819946,8.661761457749352,6.011150117432088,7.080725777960454,0.20584494295802447,9.699098521619943,8.324426408004218,2.1233911067827616,1.8182496720710062,1.8340450985343382,3.0424224295953772,5.247564316322379,4.319450186421157,2.9122914019804194,6.118528947223795,1.3949386065204183,2.9214464853521815,3.663618432936917,4.56069984217036,7.851759613930136,1.9967378215835974,5.142344384136116,5.924145688620425,0.46450412719997725,6.075448519014383,1.7052412368729153,0.6505159298527952,9.488855372533333,9.656320330745594,8.08397348116461,3.0461376917337066,0.9767211400638387,6.842330265121569,4.4015249373960135,1.2203823484477883,4.951769101112702,0.34388521115218396,9.093204020787821,2.587799816000169,6.62522284353982,3.1171107608941098,5.200680211778108,5.4671027934327965,1.8485445552552704],\"y\":[9.695846277645586,7.7513282336111455,9.394989415641891,8.948273504276488,5.978999788110851,9.218742350231167,0.884925020519195,1.959828624191452,0.45227288910538066,3.2533033076326436,3.8867728968948203,2.713490317738959,8.287375091519294,3.567533266935893,2.8093450968738076,5.426960831582485,1.4092422497476265,8.021969807540398,0.7455064367977082,9.868869366005173,7.722447692966574,1.987156815341724,0.05522117123602399,8.154614284548341,7.068573438476172,7.2900716804098735,7.712703466859457,0.7404465173409036,3.5846572854427263,1.1586905952512971,8.631034258755935,6.232981268275579,3.308980248526492,0.6355835028602363,3.109823217156622,3.2518332202674705,7.29606178338064,6.3755747135521315,8.872127425763265,4.722149251619493,1.195942459383017,7.13244787222995,7.607850486168974,5.612771975694963,7.70967179954561,4.937955963643907,5.227328293819941,4.275410183585496,0.2541912674409519,1.0789142699330445],\"z\":[0.3142918568673425,6.364104112637804,3.143559810763267,5.085706911647028,9.07566473926093,2.4929222914887497,4.103829230356297,7.555511385430487,2.2879816549162246,0.7697990982879299,2.8975145291376805,1.6122128725400442,9.29697652342573,8.08120379564417,6.334037565104235,8.714605901877178,8.036720768991145,1.8657005888603584,8.925589984899778,5.393422419156507,8.074401551640625,8.960912999234932,3.1800347497186388,1.1005192452767676,2.279351625419417,4.271077886262563,8.18014765922493,8.607305832563434,0.06952130531190703,5.107473025775658,4.17411003148779,2.2210781047073027,1.198653673336828,3.3761517140362796,9.429097039125192,3.2320293202075523,5.187906217433661,7.030189588951778,3.63629602379294,9.717820827209607,9.624472949421111,2.5178229582536416,4.972485058923855,3.0087830981676964,2.848404943774676,0.36886947354532795,6.095643339798968,5.026790232288615,0.5147875124998935,2.7864646423661146],\"type\":\"scatter3d\"}],                        {\"template\":{\"data\":{\"histogram2dcontour\":[{\"type\":\"histogram2dcontour\",\"colorbar\":{\"outlinewidth\":0,\"ticks\":\"\"},\"colorscale\":[[0.0,\"#0d0887\"],[0.1111111111111111,\"#46039f\"],[0.2222222222222222,\"#7201a8\"],[0.3333333333333333,\"#9c179e\"],[0.4444444444444444,\"#bd3786\"],[0.5555555555555556,\"#d8576b\"],[0.6666666666666666,\"#ed7953\"],[0.7777777777777778,\"#fb9f3a\"],[0.8888888888888888,\"#fdca26\"],[1.0,\"#f0f921\"]]}],\"choropleth\":[{\"type\":\"choropleth\",\"colorbar\":{\"outlinewidth\":0,\"ticks\":\"\"}}],\"histogram2d\":[{\"type\":\"histogram2d\",\"colorbar\":{\"outlinewidth\":0,\"ticks\":\"\"},\"colorscale\":[[0.0,\"#0d0887\"],[0.1111111111111111,\"#46039f\"],[0.2222222222222222,\"#7201a8\"],[0.3333333333333333,\"#9c179e\"],[0.4444444444444444,\"#bd3786\"],[0.5555555555555556,\"#d8576b\"],[0.6666666666666666,\"#ed7953\"],[0.7777777777777778,\"#fb9f3a\"],[0.8888888888888888,\"#fdca26\"],[1.0,\"#f0f921\"]]}],\"heatmap\":[{\"type\":\"heatmap\",\"colorbar\":{\"outlinewidth\":0,\"ticks\":\"\"},\"colorscale\":[[0.0,\"#0d0887\"],[0.1111111111111111,\"#46039f\"],[0.2222222222222222,\"#7201a8\"],[0.3333333333333333,\"#9c179e\"],[0.4444444444444444,\"#bd3786\"],[0.5555555555555556,\"#d8576b\"],[0.6666666666666666,\"#ed7953\"],[0.7777777777777778,\"#fb9f3a\"],[0.8888888888888888,\"#fdca26\"],[1.0,\"#f0f921\"]]}],\"heatmapgl\":[{\"type\":\"heatmapgl\",\"colorbar\":{\"outlinewidth\":0,\"ticks\":\"\"},\"colorscale\":[[0.0,\"#0d0887\"],[0.1111111111111111,\"#46039f\"],[0.2222222222222222,\"#7201a8\"],[0.3333333333333333,\"#9c179e\"],[0.4444444444444444,\"#bd3786\"],[0.5555555555555556,\"#d8576b\"],[0.6666666666666666,\"#ed7953\"],[0.7777777777777778,\"#fb9f3a\"],[0.8888888888888888,\"#fdca26\"],[1.0,\"#f0f921\"]]}],\"contourcarpet\":[{\"type\":\"contourcarpet\",\"colorbar\":{\"outlinewidth\":0,\"ticks\":\"\"}}],\"contour\":[{\"type\":\"contour\",\"colorbar\":{\"outlinewidth\":0,\"ticks\":\"\"},\"colorscale\":[[0.0,\"#0d0887\"],[0.1111111111111111,\"#46039f\"],[0.2222222222222222,\"#7201a8\"],[0.3333333333333333,\"#9c179e\"],[0.4444444444444444,\"#bd3786\"],[0.5555555555555556,\"#d8576b\"],[0.6666666666666666,\"#ed7953\"],[0.7777777777777778,\"#fb9f3a\"],[0.8888888888888888,\"#fdca26\"],[1.0,\"#f0f921\"]]}],\"surface\":[{\"type\":\"surface\",\"colorbar\":{\"outlinewidth\":0,\"ticks\":\"\"},\"colorscale\":[[0.0,\"#0d0887\"],[0.1111111111111111,\"#46039f\"],[0.2222222222222222,\"#7201a8\"],[0.3333333333333333,\"#9c179e\"],[0.4444444444444444,\"#bd3786\"],[0.5555555555555556,\"#d8576b\"],[0.6666666666666666,\"#ed7953\"],[0.7777777777777778,\"#fb9f3a\"],[0.8888888888888888,\"#fdca26\"],[1.0,\"#f0f921\"]]}],\"mesh3d\":[{\"type\":\"mesh3d\",\"colorbar\":{\"outlinewidth\":0,\"ticks\":\"\"}}],\"scatter\":[{\"fillpattern\":{\"fillmode\":\"overlay\",\"size\":10,\"solidity\":0.2},\"type\":\"scatter\"}],\"parcoords\":[{\"type\":\"parcoords\",\"line\":{\"colorbar\":{\"outlinewidth\":0,\"ticks\":\"\"}}}],\"scatterpolargl\":[{\"type\":\"scatterpolargl\",\"marker\":{\"colorbar\":{\"outlinewidth\":0,\"ticks\":\"\"}}}],\"bar\":[{\"error_x\":{\"color\":\"#2a3f5f\"},\"error_y\":{\"color\":\"#2a3f5f\"},\"marker\":{\"line\":{\"color\":\"#E5ECF6\",\"width\":0.5},\"pattern\":{\"fillmode\":\"overlay\",\"size\":10,\"solidity\":0.2}},\"type\":\"bar\"}],\"scattergeo\":[{\"type\":\"scattergeo\",\"marker\":{\"colorbar\":{\"outlinewidth\":0,\"ticks\":\"\"}}}],\"scatterpolar\":[{\"type\":\"scatterpolar\",\"marker\":{\"colorbar\":{\"outlinewidth\":0,\"ticks\":\"\"}}}],\"histogram\":[{\"marker\":{\"pattern\":{\"fillmode\":\"overlay\",\"size\":10,\"solidity\":0.2}},\"type\":\"histogram\"}],\"scattergl\":[{\"type\":\"scattergl\",\"marker\":{\"colorbar\":{\"outlinewidth\":0,\"ticks\":\"\"}}}],\"scatter3d\":[{\"type\":\"scatter3d\",\"line\":{\"colorbar\":{\"outlinewidth\":0,\"ticks\":\"\"}},\"marker\":{\"colorbar\":{\"outlinewidth\":0,\"ticks\":\"\"}}}],\"scattermapbox\":[{\"type\":\"scattermapbox\",\"marker\":{\"colorbar\":{\"outlinewidth\":0,\"ticks\":\"\"}}}],\"scatterternary\":[{\"type\":\"scatterternary\",\"marker\":{\"colorbar\":{\"outlinewidth\":0,\"ticks\":\"\"}}}],\"scattercarpet\":[{\"type\":\"scattercarpet\",\"marker\":{\"colorbar\":{\"outlinewidth\":0,\"ticks\":\"\"}}}],\"carpet\":[{\"aaxis\":{\"endlinecolor\":\"#2a3f5f\",\"gridcolor\":\"white\",\"linecolor\":\"white\",\"minorgridcolor\":\"white\",\"startlinecolor\":\"#2a3f5f\"},\"baxis\":{\"endlinecolor\":\"#2a3f5f\",\"gridcolor\":\"white\",\"linecolor\":\"white\",\"minorgridcolor\":\"white\",\"startlinecolor\":\"#2a3f5f\"},\"type\":\"carpet\"}],\"table\":[{\"cells\":{\"fill\":{\"color\":\"#EBF0F8\"},\"line\":{\"color\":\"white\"}},\"header\":{\"fill\":{\"color\":\"#C8D4E3\"},\"line\":{\"color\":\"white\"}},\"type\":\"table\"}],\"barpolar\":[{\"marker\":{\"line\":{\"color\":\"#E5ECF6\",\"width\":0.5},\"pattern\":{\"fillmode\":\"overlay\",\"size\":10,\"solidity\":0.2}},\"type\":\"barpolar\"}],\"pie\":[{\"automargin\":true,\"type\":\"pie\"}]},\"layout\":{\"autotypenumbers\":\"strict\",\"colorway\":[\"#636efa\",\"#EF553B\",\"#00cc96\",\"#ab63fa\",\"#FFA15A\",\"#19d3f3\",\"#FF6692\",\"#B6E880\",\"#FF97FF\",\"#FECB52\"],\"font\":{\"color\":\"#2a3f5f\"},\"hovermode\":\"closest\",\"hoverlabel\":{\"align\":\"left\"},\"paper_bgcolor\":\"white\",\"plot_bgcolor\":\"#E5ECF6\",\"polar\":{\"bgcolor\":\"#E5ECF6\",\"angularaxis\":{\"gridcolor\":\"white\",\"linecolor\":\"white\",\"ticks\":\"\"},\"radialaxis\":{\"gridcolor\":\"white\",\"linecolor\":\"white\",\"ticks\":\"\"}},\"ternary\":{\"bgcolor\":\"#E5ECF6\",\"aaxis\":{\"gridcolor\":\"white\",\"linecolor\":\"white\",\"ticks\":\"\"},\"baxis\":{\"gridcolor\":\"white\",\"linecolor\":\"white\",\"ticks\":\"\"},\"caxis\":{\"gridcolor\":\"white\",\"linecolor\":\"white\",\"ticks\":\"\"}},\"coloraxis\":{\"colorbar\":{\"outlinewidth\":0,\"ticks\":\"\"}},\"colorscale\":{\"sequential\":[[0.0,\"#0d0887\"],[0.1111111111111111,\"#46039f\"],[0.2222222222222222,\"#7201a8\"],[0.3333333333333333,\"#9c179e\"],[0.4444444444444444,\"#bd3786\"],[0.5555555555555556,\"#d8576b\"],[0.6666666666666666,\"#ed7953\"],[0.7777777777777778,\"#fb9f3a\"],[0.8888888888888888,\"#fdca26\"],[1.0,\"#f0f921\"]],\"sequentialminus\":[[0.0,\"#0d0887\"],[0.1111111111111111,\"#46039f\"],[0.2222222222222222,\"#7201a8\"],[0.3333333333333333,\"#9c179e\"],[0.4444444444444444,\"#bd3786\"],[0.5555555555555556,\"#d8576b\"],[0.6666666666666666,\"#ed7953\"],[0.7777777777777778,\"#fb9f3a\"],[0.8888888888888888,\"#fdca26\"],[1.0,\"#f0f921\"]],\"diverging\":[[0,\"#8e0152\"],[0.1,\"#c51b7d\"],[0.2,\"#de77ae\"],[0.3,\"#f1b6da\"],[0.4,\"#fde0ef\"],[0.5,\"#f7f7f7\"],[0.6,\"#e6f5d0\"],[0.7,\"#b8e186\"],[0.8,\"#7fbc41\"],[0.9,\"#4d9221\"],[1,\"#276419\"]]},\"xaxis\":{\"gridcolor\":\"white\",\"linecolor\":\"white\",\"ticks\":\"\",\"title\":{\"standoff\":15},\"zerolinecolor\":\"white\",\"automargin\":true,\"zerolinewidth\":2},\"yaxis\":{\"gridcolor\":\"white\",\"linecolor\":\"white\",\"ticks\":\"\",\"title\":{\"standoff\":15},\"zerolinecolor\":\"white\",\"automargin\":true,\"zerolinewidth\":2},\"scene\":{\"xaxis\":{\"backgroundcolor\":\"#E5ECF6\",\"gridcolor\":\"white\",\"linecolor\":\"white\",\"showbackground\":true,\"ticks\":\"\",\"zerolinecolor\":\"white\",\"gridwidth\":2},\"yaxis\":{\"backgroundcolor\":\"#E5ECF6\",\"gridcolor\":\"white\",\"linecolor\":\"white\",\"showbackground\":true,\"ticks\":\"\",\"zerolinecolor\":\"white\",\"gridwidth\":2},\"zaxis\":{\"backgroundcolor\":\"#E5ECF6\",\"gridcolor\":\"white\",\"linecolor\":\"white\",\"showbackground\":true,\"ticks\":\"\",\"zerolinecolor\":\"white\",\"gridwidth\":2}},\"shapedefaults\":{\"line\":{\"color\":\"#2a3f5f\"}},\"annotationdefaults\":{\"arrowcolor\":\"#2a3f5f\",\"arrowhead\":0,\"arrowwidth\":1},\"geo\":{\"bgcolor\":\"white\",\"landcolor\":\"#E5ECF6\",\"subunitcolor\":\"white\",\"showland\":true,\"showlakes\":true,\"lakecolor\":\"white\"},\"title\":{\"x\":0.05},\"mapbox\":{\"style\":\"light\"}}},\"title\":{\"text\":\"3D Scatter Plot\"},\"scene\":{\"xaxis\":{\"title\":{\"text\":\"X Axis\"}},\"yaxis\":{\"title\":{\"text\":\"Y Axis\"}},\"zaxis\":{\"title\":{\"text\":\"Z Axis\"}}}},                        {\"responsive\": true}                    ).then(function(){\n",
              "                            \n",
              "var gd = document.getElementById('e23c38bf-ff95-4eef-9a09-4047c1d903c1');\n",
              "var x = new MutationObserver(function (mutations, observer) {{\n",
              "        var display = window.getComputedStyle(gd).display;\n",
              "        if (!display || display === 'none') {{\n",
              "            console.log([gd, 'removed!']);\n",
              "            Plotly.purge(gd);\n",
              "            observer.disconnect();\n",
              "        }}\n",
              "}});\n",
              "\n",
              "// Listen for the removal of the full notebook cells\n",
              "var notebookContainer = gd.closest('#notebook-container');\n",
              "if (notebookContainer) {{\n",
              "    x.observe(notebookContainer, {childList: true});\n",
              "}}\n",
              "\n",
              "// Listen for the clearing of the current output cell\n",
              "var outputEl = gd.closest('.output');\n",
              "if (outputEl) {{\n",
              "    x.observe(outputEl, {childList: true});\n",
              "}}\n",
              "\n",
              "                        })                };                            </script>        </div>\n",
              "</body>\n",
              "</html>"
            ]
          },
          "metadata": {}
        }
      ]
    },
    {
      "cell_type": "code",
      "source": [],
      "metadata": {
        "id": "9Bw8-wQSJytE"
      },
      "execution_count": null,
      "outputs": []
    }
  ]
}